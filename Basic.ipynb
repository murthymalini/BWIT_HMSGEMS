{
  "nbformat": 4,
  "nbformat_minor": 0,
  "metadata": {
    "colab": {
      "name": "Basic.ipynb",
      "provenance": [],
      "collapsed_sections": [],
      "toc_visible": true,
      "authorship_tag": "ABX9TyOAtpTzYAvuzzzQ/ulpZ8Xf",
      "include_colab_link": true
    },
    "kernelspec": {
      "name": "python3",
      "display_name": "Python 3"
    }
  },
  "cells": [
    {
      "cell_type": "markdown",
      "metadata": {
        "id": "view-in-github",
        "colab_type": "text"
      },
      "source": [
        "<a href=\"https://colab.research.google.com/github/murthymalini/BWIT_HMSGEMS/blob/master/Basic.ipynb\" target=\"_parent\"><img src=\"https://colab.research.google.com/assets/colab-badge.svg\" alt=\"Open In Colab\"/></a>"
      ]
    },
    {
      "cell_type": "markdown",
      "metadata": {
        "id": "8F8XcWtCh-Kb",
        "colab_type": "text"
      },
      "source": [
        "***What is a computer code :***\n",
        "\n",
        "Computer code or program code is the set of instructions forming a computer program which is executed by a computer. This source code is translated into machine code by a compiler or interpreter so that the computer can execute it to perform its tasks."
      ]
    },
    {
      "cell_type": "markdown",
      "metadata": {
        "id": "r41AY4GB3qEh",
        "colab_type": "text"
      },
      "source": [
        "***What is a Programming Language :***"
      ]
    },
    {
      "cell_type": "markdown",
      "metadata": {
        "id": "puKtyt7ty_tW",
        "colab_type": "text"
      },
      "source": [
        "A programing language enables us to write efficient programs and develop online solutions such as- mobile applications, web applications, and games, etc. Programming is used to automate, maintain, assemble, measure and interpret the processing of the data and information."
      ]
    },
    {
      "cell_type": "markdown",
      "metadata": {
        "id": "3_nxr65T4H8V",
        "colab_type": "text"
      },
      "source": [
        "***What is Python :***\n",
        "\n",
        "Python is a general purpose and high level programming language. You can use Python for developing desktop GUI applications, websites and web applications. Also, Python, as a high level programming language, allows you to focus on core functionality of the application by taking care of common programming tasks."
      ]
    },
    {
      "cell_type": "markdown",
      "metadata": {
        "id": "qQHmTg-Q5Arz",
        "colab_type": "text"
      },
      "source": [
        "***Uses of Python :*** (I will explain each of these below in simple understandable way for the kids)\n",
        "\n",
        "*   Readable and Maintainable Code\n",
        "*   Multiple Programming Paradigms\n",
        "*   Compatible with Major Platforms and Systems\n",
        "*   Robust Standard Library\n",
        "*   Many Open Source Frameworks and Tool\n",
        "*   Simplify Complex Software Development\n",
        "*   Adopt Test Driven Development\n"
      ]
    },
    {
      "cell_type": "code",
      "metadata": {
        "id": "GVL3fY_L5Mkj",
        "colab_type": "code",
        "colab": {}
      },
      "source": [
        "import pandas as pd"
      ],
      "execution_count": 0,
      "outputs": []
    },
    {
      "cell_type": "markdown",
      "metadata": {
        "id": "T-Uc3fHj50E_",
        "colab_type": "text"
      },
      "source": [
        "***Basic Data Types :*** (will explain these in the context with examples)\n",
        "\n",
        "*   Int   : Numeric\n",
        "*   Float : Numeric\n",
        "*   Str   : Text Type\n",
        "*   Bool  : Boolean\n",
        "*   Dict : Mapping\n",
        "*   List, Tuple, Range : Sequence \n"
      ]
    },
    {
      "cell_type": "code",
      "metadata": {
        "id": "R9fLpXpy7gi2",
        "colab_type": "code",
        "outputId": "e0b5e641-5209-475d-8c75-7912150756db",
        "colab": {
          "base_uri": "https://localhost:8080/",
          "height": 33
        }
      },
      "source": [
        "print(2+2)"
      ],
      "execution_count": 1,
      "outputs": [
        {
          "output_type": "stream",
          "text": [
            "4\n"
          ],
          "name": "stdout"
        }
      ]
    },
    {
      "cell_type": "markdown",
      "metadata": {
        "id": "Xkq80v4VrDbq",
        "colab_type": "text"
      },
      "source": [
        "# New Section"
      ]
    },
    {
      "cell_type": "code",
      "metadata": {
        "id": "WQr98Od28fZH",
        "colab_type": "code",
        "cellView": "both",
        "colab": {}
      },
      "source": [
        "# print(Name)"
      ],
      "execution_count": 0,
      "outputs": []
    },
    {
      "cell_type": "code",
      "metadata": {
        "id": "4ukp_dt58jUn",
        "colab_type": "code",
        "colab": {
          "base_uri": "https://localhost:8080/",
          "height": 33
        },
        "outputId": "c47f464f-44ae-495f-b5ac-a13e91472dde"
      },
      "source": [
        "print(\"Name\")"
      ],
      "execution_count": 9,
      "outputs": [
        {
          "output_type": "stream",
          "text": [
            "Name\n"
          ],
          "name": "stdout"
        }
      ]
    },
    {
      "cell_type": "markdown",
      "metadata": {
        "id": "OQOhNFztk_d6",
        "colab_type": "text"
      },
      "source": [
        "***Variable : ***\n",
        "\n",
        "A Python variable is a reserved memory location to store values. In other words, a variable in a python program gives data to the computer for processing"
      ]
    },
    {
      "cell_type": "code",
      "metadata": {
        "id": "mef266UbkQGZ",
        "colab_type": "code",
        "colab": {
          "base_uri": "https://localhost:8080/",
          "height": 33
        },
        "outputId": "da6e67f3-4945-4183-dd16-dd7a18e02c63"
      },
      "source": [
        "# Create a Variable \n",
        "x = \"Hello Python\"\n",
        "print(type(x))"
      ],
      "execution_count": 3,
      "outputs": [
        {
          "output_type": "stream",
          "text": [
            "<class 'str'>\n"
          ],
          "name": "stdout"
        }
      ]
    },
    {
      "cell_type": "code",
      "metadata": {
        "id": "LuWQSrSgkkc9",
        "colab_type": "code",
        "colab": {
          "base_uri": "https://localhost:8080/",
          "height": 33
        },
        "outputId": "e5972da7-a5f5-4757-e6b7-b22be7501130"
      },
      "source": [
        "x = range(6)\n",
        "print(type(x))"
      ],
      "execution_count": 4,
      "outputs": [
        {
          "output_type": "stream",
          "text": [
            "<class 'range'>\n"
          ],
          "name": "stdout"
        }
      ]
    },
    {
      "cell_type": "code",
      "metadata": {
        "id": "t9MplMvv8mgd",
        "colab_type": "code",
        "cellView": "both",
        "colab": {
          "base_uri": "https://localhost:8080/",
          "height": 100
        },
        "outputId": "9e7b42ad-4dc6-485c-9c2e-66555c280163"
      },
      "source": [
        "# Create a variable called 'name' that holds a string\n",
        "name = \"Jacob Deming\"\n",
        "\n",
        "# Create a variable called 'country' that holds a string\n",
        "country = \"United States\"\n",
        "\n",
        "# Create a variable called 'age' that holds an integer\n",
        "age = 25\n",
        "\n",
        "# Create a variable called 'hourly_wage' that holds an integer\n",
        "hourly_wage = 15\n",
        "\n",
        "# Calculate the daily wage for the user\n",
        "daily_wage = hourly_wage * 8\n",
        "\n",
        "# Create a variable called 'satisfied' that holds a boolean\n",
        "satisfied = True\n",
        "\n",
        "# Print out \"Hello <name>!\"\n",
        "print(\"Hello \" + name + \"!\")\n",
        "\n",
        "# Print out what country the user entered\n",
        "print(\"You live in \" + country)\n",
        "\n",
        "# Print out the user's age\n",
        "print(\"You are \" + str(age) + \" years old\")\n",
        "\n",
        "# With an f-string, print out the daily wage that was calculated\n",
        "print(f\"You make {daily_wage} per day\")\n",
        "\n",
        "# With an f-string, print out whether the users were satisfied\n",
        "print(f\"Are you satisfied with your current wage? {satisfied}\")"
      ],
      "execution_count": 5,
      "outputs": [
        {
          "output_type": "stream",
          "text": [
            "Hello Jacob Deming!\n",
            "You live in United States\n",
            "You are 25 years old\n",
            "You make 120 per day\n",
            "Are you satisfied with your current wage? True\n"
          ],
          "name": "stdout"
        }
      ]
    },
    {
      "cell_type": "markdown",
      "metadata": {
        "id": "8rZp8yd9lR0n",
        "colab_type": "text"
      },
      "source": [
        "***What is a List :***\n",
        "\n",
        "A list is a data structure in Python that is a mutable, or changeable, ordered sequence of elements. Each element or value that is inside of a list is called an item. Just as strings are defined as characters between quotes, lists are defined by having values between square brackets [ ]"
      ]
    },
    {
      "cell_type": "code",
      "metadata": {
        "id": "vqs4WoTgWsuk",
        "colab_type": "code",
        "cellView": "both",
        "colab": {}
      },
      "source": [
        "# Lists Examples \n",
        "month_list = [\"January\", \"February\", \"March\", \"April\", \"May\"]\n",
        "expense_list = [2340, 2500, 2100, 3100, 2980]"
      ],
      "execution_count": 0,
      "outputs": []
    },
    {
      "cell_type": "code",
      "metadata": {
        "id": "j7eX0HK99A8A",
        "colab_type": "code",
        "outputId": "ed29f3fd-ae7a-45ca-a823-41d8ec615e81",
        "colab": {
          "base_uri": "https://localhost:8080/",
          "height": 33
        }
      },
      "source": [
        "#In Feb, how many dollars you spent extra compare to January?\n",
        "expense_list[1]-expense_list[0]"
      ],
      "execution_count": 7,
      "outputs": [
        {
          "output_type": "execute_result",
          "data": {
            "text/plain": [
              "160"
            ]
          },
          "metadata": {
            "tags": []
          },
          "execution_count": 7
        }
      ]
    },
    {
      "cell_type": "code",
      "metadata": {
        "id": "T-7exIGg9wzn",
        "colab_type": "code",
        "colab": {
          "base_uri": "https://localhost:8080/",
          "height": 33
        },
        "outputId": "6cc84d96-add9-4ed4-aa02-783a3113bd02"
      },
      "source": [
        "#Find out your total expense in first quarter (first three months) of the year'\n",
        "expense_list[0] + expense_list[1] + expense_list[2]"
      ],
      "execution_count": 8,
      "outputs": [
        {
          "output_type": "execute_result",
          "data": {
            "text/plain": [
              "6940"
            ]
          },
          "metadata": {
            "tags": []
          },
          "execution_count": 8
        }
      ]
    },
    {
      "cell_type": "code",
      "metadata": {
        "id": "SuvGxrQ_99Ms",
        "colab_type": "code",
        "colab": {
          "base_uri": "https://localhost:8080/",
          "height": 33
        },
        "outputId": "88ed8443-9da7-44b2-869c-405186183eff"
      },
      "source": [
        "# Find out if you spent exactly 2000 dollars in any month\n",
        "2000 in expense_list"
      ],
      "execution_count": 9,
      "outputs": [
        {
          "output_type": "execute_result",
          "data": {
            "text/plain": [
              "False"
            ]
          },
          "metadata": {
            "tags": []
          },
          "execution_count": 9
        }
      ]
    },
    {
      "cell_type": "code",
      "metadata": {
        "id": "kUb00PJD-Lgy",
        "colab_type": "code",
        "colab": {}
      },
      "source": [
        "# Its the end of June and you expensed $ 1980. Add this item to our monthly expense list\n",
        "expense_list.append(1980)"
      ],
      "execution_count": 0,
      "outputs": []
    },
    {
      "cell_type": "code",
      "metadata": {
        "id": "v5LYn0ln-a2a",
        "colab_type": "code",
        "colab": {
          "base_uri": "https://localhost:8080/",
          "height": 33
        },
        "outputId": "72feea1e-7872-4feb-e72d-95515828597f"
      },
      "source": [
        "expense_list"
      ],
      "execution_count": 11,
      "outputs": [
        {
          "output_type": "execute_result",
          "data": {
            "text/plain": [
              "[2340, 2500, 2100, 3100, 2980, 1980]"
            ]
          },
          "metadata": {
            "tags": []
          },
          "execution_count": 11
        }
      ]
    },
    {
      "cell_type": "code",
      "metadata": {
        "id": "M9YRWdUF-cjG",
        "colab_type": "code",
        "colab": {
          "base_uri": "https://localhost:8080/",
          "height": 33
        },
        "outputId": "d9a76f03-23df-4924-f752-365909365bc9"
      },
      "source": [
        "# You returned an item that you bought in a month of April and got a refund of 200$. Make a correction to your monthly expense list based on this\n",
        "expense_list[3] = expense_list[3]-200\n",
        "expense_list[3]"
      ],
      "execution_count": 12,
      "outputs": [
        {
          "output_type": "execute_result",
          "data": {
            "text/plain": [
              "2900"
            ]
          },
          "metadata": {
            "tags": []
          },
          "execution_count": 12
        }
      ]
    },
    {
      "cell_type": "code",
      "metadata": {
        "id": "FudNAfIK-m-1",
        "colab_type": "code",
        "colab": {}
      },
      "source": [
        ""
      ],
      "execution_count": 0,
      "outputs": []
    }
  ]
}